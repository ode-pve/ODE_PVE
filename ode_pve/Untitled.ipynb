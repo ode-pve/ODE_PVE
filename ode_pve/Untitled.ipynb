{
 "cells": [
  {
   "cell_type": "code",
   "execution_count": 1,
   "metadata": {},
   "outputs": [],
   "source": [
    "# import packages\n",
    "import numpy as np\n",
    "import matplotlib.pyplot as plt\n",
    "import pandas as pd\n",
    "from sympy import *\n",
    "from scipy.optimize import fsolve\n",
    "%matplotlib inline"
   ]
  },
  {
   "cell_type": "code",
   "execution_count": 2,
   "metadata": {},
   "outputs": [],
   "source": [
    "# set up variables\n",
    "length = 25 #(nm)\n",
    "dx = length/12 #(nm)\n",
    "dt = 0.016667*332/12 #(s)"
   ]
  },
  {
   "cell_type": "code",
   "execution_count": 3,
   "metadata": {},
   "outputs": [],
   "source": [
    "# set up constant for follwing calculation\n",
    "a = 5.6737/2*10**(-6)\n",
    "b = 4.295*10**(-5)\n",
    "c = 6.3129*10**(-5)\n",
    "d = 1.76386*10**(-6)\n",
    "e = 1.5863*10**(-8)\n",
    "f = 6.29973*10**(-10)"
   ]
  },
  {
   "cell_type": "code",
   "execution_count": 4,
   "metadata": {},
   "outputs": [],
   "source": [
    "# import two-phase data\n",
    "df = pd.read_excel('D.xlsx', sheet_name='4')\n",
    "A = df['SymbolA']\n",
    "B = df['SymbolB']\n",
    "C = df['Li Fraction'] # the concentration in two-phase region"
   ]
  },
  {
   "cell_type": "code",
   "execution_count": 8,
   "metadata": {},
   "outputs": [
    {
     "data": {
      "text/plain": [
       "0.028169014084507043"
      ]
     },
     "execution_count": 8,
     "metadata": {},
     "output_type": "execute_result"
    }
   ],
   "source": [
    "C[0]"
   ]
  },
  {
   "cell_type": "code",
   "execution_count": 10,
   "metadata": {},
   "outputs": [
    {
     "name": "stderr",
     "output_type": "stream",
     "text": [
      "C:\\Users\\user\\Anaconda3\\lib\\site-packages\\ipykernel_launcher.py:4: SettingWithCopyWarning: \n",
      "A value is trying to be set on a copy of a slice from a DataFrame\n",
      "\n",
      "See the caveats in the documentation: http://pandas.pydata.org/pandas-docs/stable/indexing.html#indexing-view-versus-copy\n",
      "  after removing the cwd from sys.path.\n"
     ]
    },
    {
     "name": "stdout",
     "output_type": "stream",
     "text": [
      "[2.81585098e-02 1.08349088e-01 1.93442715e-01 4.11667645e-01\n",
      " 4.78610705e-01 1.45106143e+00 1.63165168e+00 1.72117269e+00\n",
      " 1.80121426e+00 2.46385126e+00 2.54386105e+00 4.38472723e-06]\n"
     ]
    }
   ],
   "source": [
    "def myFunctionA(AA):\n",
    " \n",
    "    for i in range(0,12):\n",
    "        A[i] = AA[i]\n",
    "    \n",
    "    F = np.empty((12))\n",
    "    \n",
    "    F[0] = A[0] - C[0]\n",
    "    F[11] = A[11] - 0\n",
    "    \n",
    "    for i in range(1,11):\n",
    " \n",
    "        F[i] = (C[i]-2*A[i]) * ( a*(C[i]-A[i])**2 + b*(C[i]-A[i]) - a*(C[i]-A[i])*C[i] - b*C[i] + c*C[i]**3 - d*C[i]**2 + e*C[i] - f) - (A[i+1]-A[i])**2/(A[i+1]-A[i-1])*dx/dt - (C[i+1]-A[i+1]-C[i]+A[i])**2/(C[i+1]-A[i+1]-1.99*C[i]+1.99*A[i]+C[i-1]-A[i-1])*dx/dt\n",
    "        \n",
    "    return F\n",
    "\n",
    "AAGuess = np.linspace(0.02, 0, 12)\n",
    "AA = fsolve(myFunctionA,AAGuess)\n",
    "print(AA)"
   ]
  },
  {
   "cell_type": "code",
   "execution_count": 5,
   "metadata": {},
   "outputs": [
    {
     "name": "stderr",
     "output_type": "stream",
     "text": [
      "C:\\Users\\user\\Anaconda3\\lib\\site-packages\\ipykernel_launcher.py:4: SettingWithCopyWarning: \n",
      "A value is trying to be set on a copy of a slice from a DataFrame\n",
      "\n",
      "See the caveats in the documentation: http://pandas.pydata.org/pandas-docs/stable/indexing.html#indexing-view-versus-copy\n",
      "  after removing the cwd from sys.path.\n"
     ]
    },
    {
     "name": "stdout",
     "output_type": "stream",
     "text": [
      "2.888845185697965e-15 0.2652138559880587 0.807088320080344\n"
     ]
    },
    {
     "name": "stderr",
     "output_type": "stream",
     "text": [
      "C:\\Users\\user\\Anaconda3\\lib\\site-packages\\scipy\\optimize\\minpack.py:163: RuntimeWarning: The iteration is not making good progress, as measured by the \n",
      "  improvement from the last five Jacobian evaluations.\n",
      "  warnings.warn(msg, RuntimeWarning)\n"
     ]
    }
   ],
   "source": [
    "def myFunction1(BB):\n",
    " \n",
    "    for i in range(0,12):\n",
    "        B[i] = BB[i]\n",
    "    \n",
    "    F = np.empty((12))\n",
    "    \n",
    "    F[0] = B[0] - 0\n",
    "    F[11] = B[11] - C[11]\n",
    "    \n",
    "    for i in range(1,11):\n",
    " \n",
    "        F[i] = (2*B[i]-C[i]) * (a*B[i]**2 + b*B[i] - a*B[i]*C[i] - b*C[i] + c*C[i]**3 - d*C[i]**2 + e*C[i] - f) - ( (C[i+1]-2*B[i+1]-C[i]+2*B[i])**2 / (C[i+1]-B[i+1]-C[i-1]+B[i-1]) *delta_x / delta_t - (B[i+1]-B[i])**2 / (B[i+1]-1.99*B[i]+B[i-1])* delta_x / delta_t )\n",
    "        \n",
    "    return F\n",
    "\n",
    "BBGuess = np.linspace(0, 1, 12)\n",
    "BB = fsolve(myFunction1,BBGuess)\n",
    "print(BB[0],BB[6],BB[11])"
   ]
  },
  {
   "cell_type": "code",
   "execution_count": 20,
   "metadata": {},
   "outputs": [
    {
     "data": {
      "text/plain": [
       "array([2.88884519e-15, 3.18000542e-02, 6.52265596e-02, 1.01818872e-01,\n",
       "       1.45239962e-01, 2.00002137e-01, 2.65213856e-01, 3.34357707e-01,\n",
       "       4.03071788e-01, 5.22602103e-01, 7.76763935e-01, 8.07088320e-01])"
      ]
     },
     "execution_count": 20,
     "metadata": {},
     "output_type": "execute_result"
    }
   ],
   "source": [
    "BB"
   ]
  },
  {
   "cell_type": "code",
   "execution_count": 21,
   "metadata": {},
   "outputs": [
    {
     "data": {
      "image/png": "[encoded data removed]",
      "text/plain": [
       "<Figure size 432x288 with 1 Axes>"
      ]
     },
     "metadata": {
      "needs_background": "light"
     },
     "output_type": "display_data"
    }
   ],
   "source": [
    "plt.plot(BB, 'ro')\n",
    "plt.xlabel('location')\n",
    "plt.ylabel('concentration')\n",
    "plt.title('C_Beta')\n",
    "plt.show()"
   ]
  },
  {
   "cell_type": "code",
   "execution_count": 22,
   "metadata": {},
   "outputs": [
    {
     "data": {
      "text/plain": [
       "0     0.028169\n",
       "1     0.066791\n",
       "2     0.103788\n",
       "3     0.137618\n",
       "4     0.164619\n",
       "5     0.180280\n",
       "6     0.185490\n",
       "7     0.186769\n",
       "8     0.188478\n",
       "9     0.139370\n",
       "10   -0.044370\n",
       "11    0.000423\n",
       "Name: Li Fraction, dtype: float64"
      ]
     },
     "execution_count": 22,
     "metadata": {},
     "output_type": "execute_result"
    }
   ],
   "source": [
    "AA = C-BB\n",
    "AA"
   ]
  },
  {
   "cell_type": "code",
   "execution_count": 11,
   "metadata": {},
   "outputs": [
    {
     "data": {
      "image/png": "[encoded data removed]",
      "text/plain": [
       "<Figure size 432x288 with 1 Axes>"
      ]
     },
     "metadata": {
      "needs_background": "light"
     },
     "output_type": "display_data"
    }
   ],
   "source": [
    "plt.plot(AA, 'ro')\n",
    "plt.xlabel('location')\n",
    "plt.ylabel('concentration')\n",
    "plt.title('C_Alpha')\n",
    "plt.show()"
   ]
  },
  {
   "cell_type": "code",
   "execution_count": null,
   "metadata": {},
   "outputs": [],
   "source": [
    "def myFunction2(AA):\n",
    " \n",
    "    for i in range(0,12):\n",
    "        B[i] = AA[i]\n",
    "    \n",
    "    F = np.empty((12))\n",
    "    \n",
    "    F[0] = B[0] - C[0]\n",
    "    F[11] = B[11] - 0\n",
    "    \n",
    "    for i in range(1,11):\n",
    " \n",
    "        F[i] = (C[i]-2*B[i]) * (a*B[i]**2 + b*B[i] - a*B[i]*C[i] - b*C[i] + c*C[i]**3 - d*C[i]**2 + e*C[i] - f) - ( (C[i+1]-2*B[i+1]-C[i]+2*B[i])**2 / (C[i+1]-B[i+1]-C[i-1]+B[i-1]) *delta_x / delta_t - (B[i+1]-B[i])**2 / (B[i+1]-1.99*B[i]+B[i-1])* delta_x / delta_t )\n",
    "        \n",
    "    return F\n",
    "\n",
    "BBGuess = np.linspace(0, 1, 12)\n",
    "BB = fsolve(myFunction2,BBGuess)\n",
    "print(BB[0],BB[6],BB[11])"
   ]
  }
 ],
 "metadata": {
  "kernelspec": {
   "display_name": "Python 3",
   "language": "python",
   "name": "python3"
  },
  "language_info": {
   "codemirror_mode": {
    "name": "ipython",
    "version": 3
   },
   "file_extension": ".py",
   "mimetype": "text/x-python",
   "name": "python",
   "nbconvert_exporter": "python",
   "pygments_lexer": "ipython3",
   "version": "3.7.1"
  }
 },
 "nbformat": 4,
 "nbformat_minor": 2
}

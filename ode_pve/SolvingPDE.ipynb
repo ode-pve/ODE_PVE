{
 "cells": [
  {
   "cell_type": "code",
   "execution_count": 1,
   "metadata": {},
   "outputs": [],
   "source": [
    "# import packages\n",
    "import numpy as np\n",
    "import matplotlib.pyplot as plt\n",
    "import pandas as pd\n",
    "from sympy import *\n",
    "from scipy.optimize import fsolve\n",
    "%matplotlib inline"
   ]
  },
  {
   "cell_type": "code",
   "execution_count": 2,
   "metadata": {},
   "outputs": [],
   "source": [
    "# set up variables\n",
    "length = 25 #(nm)\n",
    "delta_x = length/332 #(nm)\n",
    "delta_t = 0.016667 #(s)"
   ]
  },
  {
   "cell_type": "code",
   "execution_count": 3,
   "metadata": {},
   "outputs": [],
   "source": [
    "# set up constant for follwing calculation\n",
    "a = 5.6737*10**(-6)\n",
    "b = 4.295*10**(-5)\n",
    "c = 6.3129*10**(-5)\n",
    "d = 1.76386*10**(-6)\n",
    "e = 1.5863*10**(-8)\n",
    "f = 6.29973*10**(-10)"
   ]
  },
  {
   "cell_type": "code",
   "execution_count": 4,
   "metadata": {},
   "outputs": [],
   "source": [
    "# import two-phase data\n",
    "df = pd.read_excel('D.xlsx', sheet_name='3')\n",
    "C = df['Li Fraction'] # the concentration in two-phase region"
   ]
  },
  {
   "cell_type": "code",
   "execution_count": 5,
   "metadata": {},
   "outputs": [],
   "source": [
    "def myFunction(B):\n",
    "    \n",
    "    F = np.empty((331))\n",
    "    \n",
    "    for i in range(1,332):\n",
    "        F[i] = float(a*B[i]**2) + float(b*B[i]) - float(a*B[i]*C[i] - b*C[i]) + float(c*C[i]**3) -float(d*C[i]**2) + float(e*C[i]) - float(f) - (float((2*C[i+1]-2*B[i+1]-2*C[i]+2*B[i])**2)/float(2*C[i+1]-B[i+1]-4*C[i]+2*B[i]+2*C[i-1]-B[i-1])*float(delta_x/delta_t)-float((B[i+1]-B[i])**2)/float(B[i+1]-2*B[i]+B[i-1])*float(delta_x/delta_t))/float(2*B[i]-2*C[i])\n",
    "        \n",
    "                                                                                                                                                \n",
    "        B[0] = 0\n",
    "        B[332] = C[332]\n",
    "    return F\n",
    "\n",
    "BGuess = np.linspace(0, 1, 333)\n",
    "B = fsolve(myFunction,BGuess)\n",
    "print(B)"
   ]
  },
  {
   "cell_type": "code",
   "execution_count": 20,
   "metadata": {},
   "outputs": [
    {
     "name": "stderr",
     "output_type": "stream",
     "text": [
      "C:\\Users\\user\\Anaconda3\\lib\\site-packages\\ipykernel_launcher.py:13: RuntimeWarning: divide by zero encountered in double_scalars\n",
      "  del sys.path[0]\n"
     ]
    },
    {
     "name": "stdout",
     "output_type": "stream",
     "text": [
      "1.0 1.0\n"
     ]
    }
   ],
   "source": [
    "def myFunction(BB):\n",
    "    \n",
    "    for i in range(0,333):\n",
    "        B[i] = BB[i]\n",
    "    \n",
    "    F = np.empty((333))\n",
    "    \n",
    "    F[0] = B[0]-0\n",
    "    F[332] = B[332] - C[332]\n",
    "    \n",
    "    for i in range(1,332):\n",
    " \n",
    "        F[i] = a*B[i]**2 + b*B[i] - a*B[i]*C[i] - b*C[i] + c*C[i]**3 - d*C[i]**2 + e*C[i] - f - ( (2*C[i+1]-2*B[i+1]-2*C[i]+2*B[i])**2 / (2*C[i+1]-B[i+1]-4*C[i]+2*B[i]+2*C[i-1]-B[i-1]) )#*delta_x / delta_t - (B[i+1]-B[i])**2 / (B[i+1]-2*B[i]+B[i-1])* delta_x / delta_t ) / 2*B[i]-2*C[i]\n",
    "        \n",
    "    return F\n",
    "\n",
    "BBGuess = np.linspace(1, 1, 333)\n",
    "BB = fsolve(myFunction,BBGuess)\n",
    "print(BB[331],BB[332])"
   ]
  },
  {
   "cell_type": "code",
   "execution_count": 34,
   "metadata": {},
   "outputs": [
    {
     "name": "stdout",
     "output_type": "stream",
     "text": [
      "0.9995920661993057 1.0004145320083733\n"
     ]
    }
   ],
   "source": [
    "def myFunction(BB):\n",
    "    \n",
    "    for i in range(0,333):\n",
    "        B[i] = BB[i]\n",
    "    \n",
    "    F = np.empty((333))\n",
    "    \n",
    "    F[0] = B[0]-0\n",
    "    F[332] = B[332] - C[332]\n",
    "    \n",
    "    for i in range(1,332):\n",
    " \n",
    "        F[i] = a*B[i]**2 + b*B[i] - a*B[i]*C[i] - b*C[i] + c*C[i]**3 - d*C[i]**2 + e*C[i] - f - ( (2*C[i+1]-2*B[i+1]-2*C[i]+2*B[i])**2 / (2*C[i+1]-B[i+1]-2*C[i-1]+B[i-1]) *delta_x / delta_t - (B[i+1]-B[i])**2 / (B[i+1]-1.99*B[i]+B[i-1])* delta_x / delta_t ) / (2*B[i]-2*C[i])\n",
    "        \n",
    "    return F\n",
    "\n",
    "BBGuess = np.linspace(1, 1, 333)\n",
    "BB = fsolve(myFunction,BBGuess)\n",
    "print(BB[331],BB[332])"
   ]
  },
  {
   "cell_type": "code",
   "execution_count": null,
   "metadata": {},
   "outputs": [],
   "source": []
  }
 ],
 "metadata": {
  "kernelspec": {
   "display_name": "Python 3",
   "language": "python",
   "name": "python3"
  },
  "language_info": {
   "codemirror_mode": {
    "name": "ipython",
    "version": 3
   },
   "file_extension": ".py",
   "mimetype": "text/x-python",
   "name": "python",
   "nbconvert_exporter": "python",
   "pygments_lexer": "ipython3",
   "version": "3.7.1"
  }
 },
 "nbformat": 4,
 "nbformat_minor": 2
}

{
 "cells": [
  {
   "cell_type": "code",
   "execution_count": 1,
   "metadata": {},
   "outputs": [],
   "source": [
    "# import packages\n",
    "import numpy as np\n",
    "import matplotlib.pyplot as plt\n",
    "import pandas as pd\n",
    "from sympy import *\n",
    "from scipy.optimize import fsolve\n",
    "%matplotlib inline"
   ]
  },
  {
   "cell_type": "code",
   "execution_count": 2,
   "metadata": {},
   "outputs": [],
   "source": [
    "# set up variables\n",
    "length = 25 #(nm)\n",
    "delta_x = length/332 #(nm)\n",
    "delta_t = 0.016667 #(s)"
   ]
  },
  {
   "cell_type": "code",
   "execution_count": 3,
   "metadata": {},
   "outputs": [],
   "source": [
    "# set up constant for follwing calculation\n",
    "a = 5.6737*10**(-6)\n",
    "b = 4.295*10**(-5)\n",
    "c = 6.3129*10**(-5)\n",
    "d = 1.76386*10**(-6)\n",
    "e = 1.5863*10**(-8)\n",
    "f = 6.29973*10**(-10)"
   ]
  },
  {
   "cell_type": "code",
   "execution_count": 4,
   "metadata": {},
   "outputs": [],
   "source": [
    "# import two-phase data\n",
    "df = pd.read_excel('D.xlsx', sheet_name='3')\n",
    "C = df['Li Fraction'] # the concentration in two-phase region\n",
    "B = df['Symbol']"
   ]
  },
  {
   "cell_type": "code",
   "execution_count": 6,
   "metadata": {},
   "outputs": [
    {
     "name": "stderr",
     "output_type": "stream",
     "text": [
      "C:\\Users\\user\\Anaconda3\\lib\\site-packages\\ipykernel_launcher.py:4: SettingWithCopyWarning: \n",
      "A value is trying to be set on a copy of a slice from a DataFrame\n",
      "\n",
      "See the caveats in the documentation: http://pandas.pydata.org/pandas-docs/stable/indexing.html#indexing-view-versus-copy\n",
      "  after removing the cwd from sys.path.\n"
     ]
    },
    {
     "name": "stdout",
     "output_type": "stream",
     "text": [
      "0.0 0.7975903614457832 0.8\n"
     ]
    },
    {
     "name": "stderr",
     "output_type": "stream",
     "text": [
      "C:\\Users\\user\\Anaconda3\\lib\\site-packages\\scipy\\optimize\\minpack.py:163: RuntimeWarning: The iteration is not making good progress, as measured by the \n",
      "  improvement from the last ten iterations.\n",
      "  warnings.warn(msg, RuntimeWarning)\n"
     ]
    }
   ],
   "source": [
    "def myFunction(BB):\n",
    " \n",
    "    for i in range(0,333):\n",
    "        B[i] = BB[i]\n",
    "    \n",
    "    F = np.empty((333))\n",
    "    \n",
    "    F[0] = B[0] - 0\n",
    "    F[332] = B[332] - C[332]\n",
    "    \n",
    "    for i in range(1,332):\n",
    " \n",
    "        F[i] = (2*B[i]-2*C[i]) * (a*B[i]**2 + b*B[i] - a*B[i]*C[i] - b*C[i] + c*C[i]**3 - d*C[i]**2 + e*C[i] - f) - ( (2*C[i+1]-2*B[i+1]-2*C[i]+2*B[i])**2 / (2*C[i+1]-B[i+1]-2*C[i-1]+B[i-1]) *delta_x / delta_t - (B[i+1]-B[i])**2 / (B[i+1]-1.99*B[i]+B[i-1])* delta_x / delta_t )\n",
    "        \n",
    "    return F\n",
    "\n",
    "BBGuess = np.linspace(0, 0.8, 333)\n",
    "BB = fsolve(myFunction,BBGuess)\n",
    "print(BB[0],BB[331],BB[332])"
   ]
  },
  {
   "cell_type": "code",
   "execution_count": null,
   "metadata": {},
   "outputs": [],
   "source": []
  }
 ],
 "metadata": {
  "kernelspec": {
   "display_name": "Python 3",
   "language": "python",
   "name": "python3"
  },
  "language_info": {
   "codemirror_mode": {
    "name": "ipython",
    "version": 3
   },
   "file_extension": ".py",
   "mimetype": "text/x-python",
   "name": "python",
   "nbconvert_exporter": "python",
   "pygments_lexer": "ipython3",
   "version": "3.7.1"
  }
 },
 "nbformat": 4,
 "nbformat_minor": 2
}
